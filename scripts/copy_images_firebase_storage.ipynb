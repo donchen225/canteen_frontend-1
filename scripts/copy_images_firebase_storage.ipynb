{
 "cells": [
  {
   "cell_type": "code",
   "execution_count": 2,
   "metadata": {
    "collapsed": true
   },
   "outputs": [],
   "source": [
    "import firebase_admin\n",
    "from firebase_admin import credentials, storage, firestore\n",
    "\n",
    "import urllib"
   ]
  },
  {
   "cell_type": "code",
   "execution_count": 3,
   "metadata": {
    "collapsed": true
   },
   "outputs": [],
   "source": [
    "CREDENTIALS_FILE = '/Users/bhsu/home/canteen/get-canteen-prod-firebase-adminsdk-kwwzn-45e0753f5a.json'"
   ]
  },
  {
   "cell_type": "code",
   "execution_count": 4,
   "metadata": {},
   "outputs": [
    {
     "data": {
      "text/plain": [
       "<firebase_admin.App at 0x7fd5dee8e7b8>"
      ]
     },
     "execution_count": 4,
     "metadata": {},
     "output_type": "execute_result"
    }
   ],
   "source": [
    "cred = credentials.Certificate(CREDENTIALS_FILE)\n",
    "firebase_admin.initialize_app(cred)"
   ]
  },
  {
   "cell_type": "markdown",
   "metadata": {},
   "source": [
    "# Update documents with images from Firestore\n",
    "\n",
    "1. Change bucket name\n",
    "2. Remove access token"
   ]
  },
  {
   "cell_type": "code",
   "execution_count": 5,
   "metadata": {
    "collapsed": true
   },
   "outputs": [],
   "source": [
    "db = firestore.client()"
   ]
  },
  {
   "cell_type": "code",
   "execution_count": 27,
   "metadata": {
    "collapsed": true
   },
   "outputs": [],
   "source": [
    "INITIAL_BUCKET = 'get-canteen-staging.appspot.com'\n",
    "FINAL_BUCKET = 'get-canteen-prod.appspot.com'\n",
    "\n",
    "def update_url(url):\n",
    "    \n",
    "    return url.replace(INITIAL_BUCKET, FINAL_BUCKET).split('&token=')[0]\n",
    "\n",
    "def get_firebase_storage_url(blob):\n",
    "    \n",
    "    path = urllib.parse.quote(blob.public_url.split(blob.bucket.name)[-1].strip('/').encode('utf-8'), safe='')\n",
    "    \n",
    "    return 'https://firebasestorage.googleapis.com/v0/b/' + blob.bucket.name + '/o/' + path + '?alt=media'  "
   ]
  },
  {
   "cell_type": "markdown",
   "metadata": {},
   "source": [
    "## Update group photo_url"
   ]
  },
  {
   "cell_type": "code",
   "execution_count": 28,
   "metadata": {
    "collapsed": true
   },
   "outputs": [],
   "source": [
    "groups_ref = db.collection('groups')\n",
    "group_docs = groups_ref.get()"
   ]
  },
  {
   "cell_type": "code",
   "execution_count": 26,
   "metadata": {
    "scrolled": true
   },
   "outputs": [],
   "source": [
    "for doc_snapshot in group_docs:\n",
    "    \n",
    "    data = doc_snapshot.to_dict()\n",
    "    url = data.get('photo_url')\n",
    "    \n",
    "    if url is not None:\n",
    "        updated_url = update_url(url)\n",
    "        doc_snapshot.reference.update({'photo_url': updated_url})"
   ]
  },
  {
   "cell_type": "markdown",
   "metadata": {},
   "source": [
    "## Update user photo_url"
   ]
  },
  {
   "cell_type": "code",
   "execution_count": 30,
   "metadata": {
    "collapsed": true
   },
   "outputs": [],
   "source": [
    "users_ref = db.collection('users')\n",
    "user_docs = users_ref.get()"
   ]
  },
  {
   "cell_type": "code",
   "execution_count": 31,
   "metadata": {
    "collapsed": true
   },
   "outputs": [],
   "source": [
    "for doc_snapshot in user_docs:\n",
    "    \n",
    "    data = doc_snapshot.to_dict()\n",
    "    url = data.get('photo_url')\n",
    "    \n",
    "    if url is not None:\n",
    "        updated_url = update_url(url)\n",
    "        doc_snapshot.reference.update({'photo_url': updated_url})"
   ]
  },
  {
   "cell_type": "code",
   "execution_count": null,
   "metadata": {
    "collapsed": true
   },
   "outputs": [],
   "source": []
  }
 ],
 "metadata": {
  "kernelspec": {
   "display_name": "Python 3",
   "language": "python",
   "name": "python3"
  },
  "language_info": {
   "codemirror_mode": {
    "name": "ipython",
    "version": 3
   },
   "file_extension": ".py",
   "mimetype": "text/x-python",
   "name": "python",
   "nbconvert_exporter": "python",
   "pygments_lexer": "ipython3",
   "version": "3.6.3"
  }
 },
 "nbformat": 4,
 "nbformat_minor": 2
}
