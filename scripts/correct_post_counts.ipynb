{
 "cells": [
  {
   "cell_type": "code",
   "execution_count": 2,
   "metadata": {
    "collapsed": true
   },
   "outputs": [],
   "source": [
    "import firebase_admin\n",
    "from firebase_admin import credentials, storage, firestore"
   ]
  },
  {
   "cell_type": "code",
   "execution_count": 3,
   "metadata": {
    "collapsed": true
   },
   "outputs": [],
   "source": [
    "CREDENTIALS_FILE = '/Users/bhsu/home/canteen/get-canteen-prod-firebase-adminsdk-kwwzn-45e0753f5a.json'"
   ]
  },
  {
   "cell_type": "code",
   "execution_count": 4,
   "metadata": {},
   "outputs": [
    {
     "data": {
      "text/plain": [
       "<firebase_admin.App at 0x7fbc65e48668>"
      ]
     },
     "execution_count": 4,
     "metadata": {},
     "output_type": "execute_result"
    }
   ],
   "source": [
    "cred = credentials.Certificate(CREDENTIALS_FILE)\n",
    "firebase_admin.initialize_app(cred)"
   ]
  },
  {
   "cell_type": "code",
   "execution_count": 5,
   "metadata": {
    "collapsed": true
   },
   "outputs": [],
   "source": [
    "db = firestore.client()"
   ]
  },
  {
   "cell_type": "code",
   "execution_count": 86,
   "metadata": {
    "collapsed": true
   },
   "outputs": [],
   "source": [
    "groups_ref = db.collection('groups')\n",
    "group_docs = groups_ref.get()"
   ]
  },
  {
   "cell_type": "code",
   "execution_count": 87,
   "metadata": {
    "scrolled": true
   },
   "outputs": [
    {
     "name": "stdout",
     "output_type": "stream",
     "text": [
      "Correcting counts for Give Armor...\n",
      "Correcting counts for Cognitive World...\n",
      "Correcting counts for Asian Hustle Network...\n",
      "Correcting counts for Startup Canteen...\n",
      "Correcting counts for Serendipia...\n",
      "Correcting counts for Investing in Startups & Identifying the Rocketship Summit...\n",
      "Correcting counts for Mei's SF VCs...\n",
      "Correcting counts for Fitness Canteen...\n",
      "Correcting counts for Mental Wellness...\n",
      "Correcting counts for SF Bay Real Estate Club...\n",
      "Correcting counts for Mohican's Guild...\n",
      "Correcting counts for Venus Rising...\n",
      "Correcting counts for Public Canteen...\n"
     ]
    }
   ],
   "source": [
    "for group_snapshot in group_docs:\n",
    "    \n",
    "    group = group_snapshot.to_dict()\n",
    "    print('Correcting counts for {}...'.format(group['name']))\n",
    "    \n",
    "    posts = group_snapshot.reference.collection('posts').get()\n",
    "    \n",
    "    for post in posts:\n",
    "    \n",
    "        post_ref = post.reference\n",
    "\n",
    "        comments_collection = post_ref.collection('comments')\n",
    "        likes_collection = post_ref.collection('likes')\n",
    "\n",
    "        comments = comments_collection.get()\n",
    "        likes = likes_collection.get()\n",
    "\n",
    "        comment_count = len(comments)\n",
    "        like_count = len(likes)\n",
    "\n",
    "        post_data = post.to_dict()\n",
    "\n",
    "        current_comment_count = post_data['comment_count']\n",
    "        current_like_count = post_data['like_count']\n",
    "\n",
    "        if current_comment_count != comment_count or current_like_count != like_count:\n",
    "\n",
    "            print('Updating counts for {post_id}. Old comment/like counts: {old_comment}/{old_like}. New comment/like counts: {new_comment}/{new_like}.'.format(post_id=post.id, old_comment=current_comment_count, old_like=current_like_count, new_comment=comment_count, new_like=like_count))\n",
    "            post_ref.update({\"comment_count\": comment_count, \"like_count\": like_count})        "
   ]
  },
  {
   "cell_type": "code",
   "execution_count": null,
   "metadata": {
    "collapsed": true
   },
   "outputs": [],
   "source": []
  }
 ],
 "metadata": {
  "kernelspec": {
   "display_name": "Python 3",
   "language": "python",
   "name": "python3"
  },
  "language_info": {
   "codemirror_mode": {
    "name": "ipython",
    "version": 3
   },
   "file_extension": ".py",
   "mimetype": "text/x-python",
   "name": "python",
   "nbconvert_exporter": "python",
   "pygments_lexer": "ipython3",
   "version": "3.6.3"
  }
 },
 "nbformat": 4,
 "nbformat_minor": 2
}
