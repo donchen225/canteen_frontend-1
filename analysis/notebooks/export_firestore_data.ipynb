{
 "cells": [
  {
   "cell_type": "code",
   "execution_count": 21,
   "metadata": {},
   "outputs": [],
   "source": [
    "import firebase_admin\n",
    "from firebase_admin import credentials\n",
    "from firebase_admin import firestore\n",
    "import json"
   ]
  },
  {
   "cell_type": "code",
   "execution_count": null,
   "metadata": {
    "collapsed": true
   },
   "outputs": [],
   "source": [
    "# Make sure to export GOOGLE_APPLICATION_CREDENTIALS first:\n",
    "# export GOOGLE_APPLICATION_CREDENTIALS=/Users/bhsu/home/canteen/get-canteen-staging-firebase-adminsdk-62zn9-bf0ed8d288.json"
   ]
  },
  {
   "cell_type": "code",
   "execution_count": 2,
   "metadata": {
    "collapsed": true
   },
   "outputs": [],
   "source": [
    "# Use the application default credentials\n",
    "cred = credentials.ApplicationDefault()\n",
    "firebase_admin.initialize_app(cred, {\n",
    "  'projectId': 'get-canteen-staging',\n",
    "})\n",
    "\n",
    "db = firestore.client()"
   ]
  },
  {
   "cell_type": "code",
   "execution_count": 3,
   "metadata": {
    "collapsed": true
   },
   "outputs": [],
   "source": [
    "users_ref = db.collection('users')"
   ]
  },
  {
   "cell_type": "code",
   "execution_count": 27,
   "metadata": {},
   "outputs": [],
   "source": [
    "user_data = []"
   ]
  },
  {
   "cell_type": "code",
   "execution_count": 28,
   "metadata": {},
   "outputs": [],
   "source": [
    "for doc in users_ref.list_documents():\n",
    "    data = doc.get().to_dict()\n",
    "    \n",
    "    stripped_data = {}\n",
    "    stripped_data['about'] = data['about']\n",
    "    stripped_data['display_name'] = data['display_name']\n",
    "    stripped_data['title'] = data['title']\n",
    "    stripped_data['interests'] = data['interests']\n",
    "    stripped_data['learn_skill'] = data['learn_skill']\n",
    "    stripped_data['teach_skill'] = data['teach_skill']\n",
    "    \n",
    "    user_data.append(stripped_data)"
   ]
  },
  {
   "cell_type": "code",
   "execution_count": 33,
   "metadata": {},
   "outputs": [],
   "source": [
    "with open('user_data.json', 'w', encoding='utf-8') as f:\n",
    "    json.dump(user_data, f, ensure_ascii=False, indent=4)"
   ]
  }
 ],
 "metadata": {
  "kernelspec": {
   "display_name": "Python 3",
   "language": "python",
   "name": "python3"
  },
  "language_info": {
   "codemirror_mode": {
    "name": "ipython",
    "version": 3
   },
   "file_extension": ".py",
   "mimetype": "text/x-python",
   "name": "python",
   "nbconvert_exporter": "python",
   "pygments_lexer": "ipython3",
   "version": "3.6.3"
  }
 },
 "nbformat": 4,
 "nbformat_minor": 2
}
